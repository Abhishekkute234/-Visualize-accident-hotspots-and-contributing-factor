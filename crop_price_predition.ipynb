{
  "nbformat": 4,
  "nbformat_minor": 0,
  "metadata": {
    "colab": {
      "provenance": [],
      "authorship_tag": "ABX9TyPe3XWWzVFBdwcAlP2zXg07",
      "include_colab_link": true
    },
    "kernelspec": {
      "name": "python3",
      "display_name": "Python 3"
    },
    "language_info": {
      "name": "python"
    }
  },
  "cells": [
    {
      "cell_type": "markdown",
      "metadata": {
        "id": "view-in-github",
        "colab_type": "text"
      },
      "source": [
        "<a href=\"https://colab.research.google.com/github/Abhishekkute234/-Visualize-accident-hotspots-and-contributing-factor/blob/main/crop_price_predition.ipynb\" target=\"_parent\"><img src=\"https://colab.research.google.com/assets/colab-badge.svg\" alt=\"Open In Colab\"/></a>"
      ]
    },
    {
      "cell_type": "code",
      "execution_count": 5,
      "metadata": {
        "colab": {
          "base_uri": "https://localhost:8080/"
        },
        "id": "xjaNh_IhqcX7",
        "outputId": "cd5187cc-0c58-4699-9192-fc6988e60c65"
      },
      "outputs": [
        {
          "output_type": "stream",
          "name": "stdout",
          "text": [
            "  Program  Year Period  Week Ending Geo Level    State  State ANSI  \\\n",
            "0  SURVEY  2015   YEAR          NaN     STATE  ALABAMA         1.0   \n",
            "1  SURVEY  2015   YEAR          NaN     STATE  ALABAMA         1.0   \n",
            "2  SURVEY  2015   YEAR          NaN     STATE  ALABAMA         1.0   \n",
            "3  SURVEY  2015   YEAR          NaN     STATE  ALABAMA         1.0   \n",
            "4  SURVEY  2015   YEAR          NaN     STATE  ARIZONA         4.0   \n",
            "\n",
            "   Ag District  Ag District Code  County  ...  Zip Code  Region  \\\n",
            "0          NaN               NaN     NaN  ...       NaN     NaN   \n",
            "1          NaN               NaN     NaN  ...       NaN     NaN   \n",
            "2          NaN               NaN     NaN  ...       NaN     NaN   \n",
            "3          NaN               NaN     NaN  ...       NaN     NaN   \n",
            "4          NaN               NaN     NaN  ...       NaN     NaN   \n",
            "\n",
            "   watershed_code  Watershed  Commodity  \\\n",
            "0               0        NaN       CORN   \n",
            "1               0        NaN       CORN   \n",
            "2               0        NaN       CORN   \n",
            "3               0        NaN       CORN   \n",
            "4               0        NaN       CORN   \n",
            "\n",
            "                                       Data Item Domain Domain Category  \\\n",
            "0                  CORN, GRAIN - ACRES HARVESTED  TOTAL   NOT SPECIFIED   \n",
            "1       CORN, GRAIN - PRODUCTION, MEASURED IN BU  TOTAL   NOT SPECIFIED   \n",
            "2                 CORN, SILAGE - ACRES HARVESTED  TOTAL   NOT SPECIFIED   \n",
            "3  CORN, SILAGE - YIELD, MEASURED IN TONS / ACRE  TOTAL   NOT SPECIFIED   \n",
            "4                  CORN, GRAIN - ACRES HARVESTED  TOTAL   NOT SPECIFIED   \n",
            "\n",
            "        Value CV (%)  \n",
            "0     245,000    NaN  \n",
            "1  36,015,000    NaN  \n",
            "2       9,000    NaN  \n",
            "3          15    NaN  \n",
            "4      34,000    NaN  \n",
            "\n",
            "[5 rows x 21 columns]\n",
            "<class 'pandas.core.frame.DataFrame'>\n",
            "RangeIndex: 23474 entries, 0 to 23473\n",
            "Data columns (total 21 columns):\n",
            " #   Column            Non-Null Count  Dtype  \n",
            "---  ------            --------------  -----  \n",
            " 0   Program           23474 non-null  object \n",
            " 1   Year              23474 non-null  int64  \n",
            " 2   Period            23474 non-null  object \n",
            " 3   Week Ending       0 non-null      float64\n",
            " 4   Geo Level         23474 non-null  object \n",
            " 5   State             23474 non-null  object \n",
            " 6   State ANSI        23440 non-null  float64\n",
            " 7   Ag District       0 non-null      float64\n",
            " 8   Ag District Code  0 non-null      float64\n",
            " 9   County            0 non-null      float64\n",
            " 10  County ANSI       0 non-null      float64\n",
            " 11  Zip Code          0 non-null      float64\n",
            " 12  Region            0 non-null      float64\n",
            " 13  watershed_code    23474 non-null  int64  \n",
            " 14  Watershed         0 non-null      float64\n",
            " 15  Commodity         23474 non-null  object \n",
            " 16  Data Item         23474 non-null  object \n",
            " 17  Domain            23474 non-null  object \n",
            " 18  Domain Category   23474 non-null  object \n",
            " 19  Value             23474 non-null  object \n",
            " 20  CV (%)            0 non-null      float64\n",
            "dtypes: float64(10), int64(2), object(9)\n",
            "memory usage: 3.8+ MB\n",
            "None\n"
          ]
        }
      ],
      "source": [
        "import pandas as pd\n",
        "\n",
        "# Load the dataset\n",
        "df = pd.read_csv('/content/corn yield.csv')\n",
        "\n",
        "# Display the first few rows of the dataset\n",
        "print(df.head())\n",
        "\n",
        "# Display summary information about the dataset\n",
        "print(df.info())\n"
      ]
    },
    {
      "cell_type": "code",
      "source": [
        "# Select relevant columns for analysis\n",
        "columns_to_keep = ['Year', 'State', 'Commodity', 'Data Item', 'Domain', 'Value']\n",
        "df = df[columns_to_keep]\n",
        "\n",
        "# Convert 'Value' to a numeric type, handling errors by coercing invalid data to NaN\n",
        "df['Value'] = pd.to_numeric(df['Value'], errors='coerce')\n",
        "\n",
        "# Drop rows with missing values in key columns\n",
        "df.dropna(subset=['Value'], inplace=True)\n",
        "\n",
        "# Encode categorical variables like 'State', 'Commodity', 'Data Item', and 'Domain'\n",
        "df = pd.get_dummies(df, columns=['State', 'Commodity', 'Data Item', 'Domain'])\n",
        "\n",
        "# Display the first few rows after preprocessing\n",
        "print(df.head())\n",
        "\n"
      ],
      "metadata": {
        "colab": {
          "base_uri": "https://localhost:8080/"
        },
        "id": "BiXUEI-oqraq",
        "outputId": "47c5c357-f857-48ce-b6cf-47f1940d80e3"
      },
      "execution_count": 6,
      "outputs": [
        {
          "output_type": "stream",
          "name": "stdout",
          "text": [
            "    Year  Value  State_ALABAMA  State_ARIZONA  State_ARKANSAS  \\\n",
            "3   2015   15.0           True          False           False   \n",
            "7   2015   31.0          False           True           False   \n",
            "11  2015   15.0          False          False            True   \n",
            "15  2015   25.5          False          False           False   \n",
            "19  2015   25.5          False          False           False   \n",
            "\n",
            "    State_CALIFORNIA  State_COLORADO  State_CONNECTICUT  State_DELAWARE  \\\n",
            "3              False           False              False           False   \n",
            "7              False           False              False           False   \n",
            "11             False           False              False           False   \n",
            "15              True           False              False           False   \n",
            "19             False            True              False           False   \n",
            "\n",
            "    State_FLORIDA  ...  State_WASHINGTON  State_WEST VIRGINIA  \\\n",
            "3           False  ...             False                False   \n",
            "7           False  ...             False                False   \n",
            "11          False  ...             False                False   \n",
            "15          False  ...             False                False   \n",
            "19          False  ...             False                False   \n",
            "\n",
            "    State_WISCONSIN  State_WYOMING  Commodity_CORN  \\\n",
            "3             False          False            True   \n",
            "7             False          False            True   \n",
            "11            False          False            True   \n",
            "15            False          False            True   \n",
            "19            False          False            True   \n",
            "\n",
            "    Data Item_CORN, GRAIN - ACRES HARVESTED  \\\n",
            "3                                     False   \n",
            "7                                     False   \n",
            "11                                    False   \n",
            "15                                    False   \n",
            "19                                    False   \n",
            "\n",
            "    Data Item_CORN, GRAIN - PRODUCTION, MEASURED IN BU  \\\n",
            "3                                               False    \n",
            "7                                               False    \n",
            "11                                              False    \n",
            "15                                              False    \n",
            "19                                              False    \n",
            "\n",
            "    Data Item_CORN, SILAGE - ACRES HARVESTED  \\\n",
            "3                                      False   \n",
            "7                                      False   \n",
            "11                                     False   \n",
            "15                                     False   \n",
            "19                                     False   \n",
            "\n",
            "    Data Item_CORN, SILAGE - YIELD, MEASURED IN TONS / ACRE  Domain_TOTAL  \n",
            "3                                                True                True  \n",
            "7                                                True                True  \n",
            "11                                               True                True  \n",
            "15                                               True                True  \n",
            "19                                               True                True  \n",
            "\n",
            "[5 rows x 57 columns]\n"
          ]
        },
        {
          "output_type": "stream",
          "name": "stderr",
          "text": [
            "<ipython-input-6-ba8f387c8373>:6: SettingWithCopyWarning: \n",
            "A value is trying to be set on a copy of a slice from a DataFrame.\n",
            "Try using .loc[row_indexer,col_indexer] = value instead\n",
            "\n",
            "See the caveats in the documentation: https://pandas.pydata.org/pandas-docs/stable/user_guide/indexing.html#returning-a-view-versus-a-copy\n",
            "  df['Value'] = pd.to_numeric(df['Value'], errors='coerce')\n",
            "<ipython-input-6-ba8f387c8373>:9: SettingWithCopyWarning: \n",
            "A value is trying to be set on a copy of a slice from a DataFrame\n",
            "\n",
            "See the caveats in the documentation: https://pandas.pydata.org/pandas-docs/stable/user_guide/indexing.html#returning-a-view-versus-a-copy\n",
            "  df.dropna(subset=['Value'], inplace=True)\n"
          ]
        }
      ]
    },
    {
      "cell_type": "markdown",
      "source": [],
      "metadata": {
        "id": "zlQaU68eqvnp"
      }
    },
    {
      "cell_type": "code",
      "source": [
        "from sklearn.model_selection import train_test_split\n",
        "from sklearn.ensemble import RandomForestRegressor\n",
        "from sklearn.metrics import mean_absolute_error\n",
        "\n",
        "# Define features and target\n",
        "X = df.drop('Value', axis=1)\n",
        "y = df['Value']\n",
        "\n",
        "# Split the data into training and testing sets\n",
        "X_train, X_test, y_train, y_test = train_test_split(X, y, test_size=0.2, random_state=42)\n",
        "\n",
        "# Initialize and train a Random Forest Regressor\n",
        "model = RandomForestRegressor(n_estimators=100, random_state=42)\n",
        "model.fit(X_train, y_train)\n",
        "\n",
        "# Make predictions on the test set\n",
        "y_pred = model.predict(X_test)\n",
        "\n",
        "# Evaluate the model\n",
        "mae = mean_absolute_error(y_test, y_pred)\n",
        "print(f'Mean Absolute Error: {mae}')\n"
      ],
      "metadata": {
        "colab": {
          "base_uri": "https://localhost:8080/"
        },
        "id": "DqjXZG36r6ch",
        "outputId": "898d97e0-6dd1-416c-8b39-1bad202a745d"
      },
      "execution_count": 7,
      "outputs": [
        {
          "output_type": "stream",
          "name": "stdout",
          "text": [
            "Mean Absolute Error: 1.0772610571736785\n"
          ]
        }
      ]
    },
    {
      "cell_type": "code",
      "source": [
        "from sklearn.metrics import mean_absolute_error, mean_squared_error, r2_score\n",
        "import numpy as np\n",
        "\n",
        "# Make predictions on the test set\n",
        "y_pred = model.predict(X_test)\n",
        "\n",
        "# Calculate the Mean Absolute Error (MAE)\n",
        "mae = mean_absolute_error(y_test, y_pred)\n",
        "print(f'Mean Absolute Error (MAE): {mae}')\n",
        "\n",
        "# Calculate the Mean Squared Error (MSE)\n",
        "mse = mean_squared_error(y_test, y_pred)\n",
        "print(f'Mean Squared Error (MSE): {mse}')\n",
        "\n",
        "# Calculate the Root Mean Squared Error (RMSE)\n",
        "rmse = np.sqrt(mse)\n",
        "print(f'Root Mean Squared Error (RMSE): {rmse}')\n",
        "\n",
        "# Calculate the R-squared (R²) value\n",
        "r2 = r2_score(y_test, y_pred)\n",
        "print(f'R-squared (R²): {r2}')\n"
      ],
      "metadata": {
        "colab": {
          "base_uri": "https://localhost:8080/"
        },
        "id": "nvVx-sFPseXS",
        "outputId": "797e0b76-6762-4a63-9012-babbbb26e58d"
      },
      "execution_count": 8,
      "outputs": [
        {
          "output_type": "stream",
          "name": "stdout",
          "text": [
            "Mean Absolute Error (MAE): 1.0772610571736785\n",
            "Mean Squared Error (MSE): 2.380082715210356\n",
            "Root Mean Squared Error (RMSE): 1.5427516699749042\n",
            "R-squared (R²): 0.9265392250440202\n"
          ]
        }
      ]
    },
    {
      "cell_type": "markdown",
      "source": [
        "# New Section"
      ],
      "metadata": {
        "id": "CHFJOu_Qq2Rr"
      }
    }
  ]
}